{
 "cells": [
  {
   "cell_type": "markdown",
   "id": "2e6be403",
   "metadata": {},
   "source": [
    "Dataset: https://www.kaggle.com/datasets/crawlfeeds/zara-us-fashion-products-dataset?resource=download"
   ]
  },
  {
   "cell_type": "code",
   "execution_count": 185,
   "id": "9bd78603",
   "metadata": {},
   "outputs": [],
   "source": [
    "import pandas as pd\n",
    "import json\n",
    "import seaborn as sns\n",
    "import numpy as np\n",
    "import matplotlib.pyplot as plt\n",
    "from matplotlib.ticker import StrMethodFormatter\n",
    "%matplotlib inline"
   ]
  },
  {
   "cell_type": "markdown",
   "id": "0a4c065f",
   "metadata": {},
   "source": [
    "Creating a dataframe to store the file content"
   ]
  },
  {
   "cell_type": "code",
   "execution_count": 8,
   "id": "5042028e",
   "metadata": {},
   "outputs": [],
   "source": [
    "df = pd.read_json('zara_us_sample_data.json')"
   ]
  },
  {
   "cell_type": "code",
   "execution_count": 9,
   "id": "4f6f9f4a",
   "metadata": {},
   "outputs": [
    {
     "data": {
      "text/html": [
       "<div>\n",
       "<style scoped>\n",
       "    .dataframe tbody tr th:only-of-type {\n",
       "        vertical-align: middle;\n",
       "    }\n",
       "\n",
       "    .dataframe tbody tr th {\n",
       "        vertical-align: top;\n",
       "    }\n",
       "\n",
       "    .dataframe thead th {\n",
       "        text-align: right;\n",
       "    }\n",
       "</style>\n",
       "<table border=\"1\" class=\"dataframe\">\n",
       "  <thead>\n",
       "    <tr style=\"text-align: right;\">\n",
       "      <th></th>\n",
       "      <th>url</th>\n",
       "      <th>language</th>\n",
       "      <th>name</th>\n",
       "      <th>sku</th>\n",
       "      <th>mpn</th>\n",
       "      <th>brand</th>\n",
       "      <th>description</th>\n",
       "      <th>price</th>\n",
       "      <th>currency</th>\n",
       "      <th>availability</th>\n",
       "      <th>condition</th>\n",
       "      <th>images</th>\n",
       "      <th>color</th>\n",
       "      <th>size_list</th>\n",
       "      <th>scraped_at</th>\n",
       "    </tr>\n",
       "  </thead>\n",
       "  <tbody>\n",
       "    <tr>\n",
       "      <th>0</th>\n",
       "      <td>https://www.zara.com/us/en/satin-effect-corset...</td>\n",
       "      <td>en-US</td>\n",
       "      <td>SATIN EFFECT CORSET BODYSUIT</td>\n",
       "      <td>128666521-966-2</td>\n",
       "      <td>128666521-966-2</td>\n",
       "      <td>ZARA</td>\n",
       "      <td>Bodysuit with sweetheart neckline and adjustab...</td>\n",
       "      <td>29.9</td>\n",
       "      <td>USD</td>\n",
       "      <td>InStock</td>\n",
       "      <td>NewCondition</td>\n",
       "      <td>https://static.zara.net/stdstatic/1.234.0-b.45...</td>\n",
       "      <td>Color Pale pink | 0219/805</td>\n",
       "      <td>S/M/L</td>\n",
       "      <td>2021-10-13 01:21:25</td>\n",
       "    </tr>\n",
       "    <tr>\n",
       "      <th>1</th>\n",
       "      <td>https://www.zara.com/us/en/long-print-dress-p0...</td>\n",
       "      <td>en-US</td>\n",
       "      <td>LONG PRINT DRESS</td>\n",
       "      <td>142448983-701-1</td>\n",
       "      <td>142448983-701-1</td>\n",
       "      <td>ZARA</td>\n",
       "      <td>Long dress with round neck and long sleeves. B...</td>\n",
       "      <td>49.9</td>\n",
       "      <td>USD</td>\n",
       "      <td></td>\n",
       "      <td>NewCondition</td>\n",
       "      <td>https://static.zara.net/stdstatic/1.234.0-b.45...</td>\n",
       "      <td>Color Brick | 9329/912</td>\n",
       "      <td>XS/XS/ -/ /We'll let you know when the item is...</td>\n",
       "      <td>2021-10-13 01:21:25</td>\n",
       "    </tr>\n",
       "    <tr>\n",
       "      <th>2</th>\n",
       "      <td>https://www.zara.com/us/en/steel-kitchen-sciss...</td>\n",
       "      <td>en-US</td>\n",
       "      <td>STEEL KITCHEN SCISSORS</td>\n",
       "      <td>125067259-220-99</td>\n",
       "      <td>125067259-220-99</td>\n",
       "      <td>ZARAHOME</td>\n",
       "      <td>Forged stainless steel kitchen scissors.</td>\n",
       "      <td>49.9</td>\n",
       "      <td>USD</td>\n",
       "      <td>InStock</td>\n",
       "      <td>NewCondition</td>\n",
       "      <td>https://static.zara.net/stdstatic/1.234.0-b.45...</td>\n",
       "      <td>Color Steel | 2967/479</td>\n",
       "      <td>8 x 20 x 1 cm</td>\n",
       "      <td>2021-10-13 01:21:25</td>\n",
       "    </tr>\n",
       "    <tr>\n",
       "      <th>3</th>\n",
       "      <td>https://www.zara.com/us/en/linen-blend-striped...</td>\n",
       "      <td>en-US</td>\n",
       "      <td>LINEN BLEND STRIPED ORGANIZER</td>\n",
       "      <td>135325938-737-99</td>\n",
       "      <td>135325938-737-99</td>\n",
       "      <td>ZARAHOME</td>\n",
       "      <td>Hanging organizer made of a cotton linen blend...</td>\n",
       "      <td>49.9</td>\n",
       "      <td>USD</td>\n",
       "      <td>InStock</td>\n",
       "      <td>NewCondition</td>\n",
       "      <td>https://static.zara.net/stdstatic/1.234.0-b.45...</td>\n",
       "      <td>Color Brown / Taupe | 5668/522</td>\n",
       "      <td>50 x 5 x 60 cm</td>\n",
       "      <td>2021-10-13 01:21:25</td>\n",
       "    </tr>\n",
       "    <tr>\n",
       "      <th>4</th>\n",
       "      <td>https://www.zara.com/us/en/chiffon-organizer-w...</td>\n",
       "      <td>en-US</td>\n",
       "      <td>CHIFFON ORGANIZER WITH MOONS AND STARS</td>\n",
       "      <td>138551470-727-99</td>\n",
       "      <td>138551470-727-99</td>\n",
       "      <td>ZARAHOME</td>\n",
       "      <td>Hanging organizer made of cotton chiffon. Feat...</td>\n",
       "      <td>35.9</td>\n",
       "      <td>USD</td>\n",
       "      <td>InStock</td>\n",
       "      <td>NewCondition</td>\n",
       "      <td>https://static.zara.net/stdstatic/1.234.0-b.45...</td>\n",
       "      <td>Color Vanilla | 5641/522</td>\n",
       "      <td>30 x 5 x 60 cm</td>\n",
       "      <td>2021-10-13 01:21:25</td>\n",
       "    </tr>\n",
       "  </tbody>\n",
       "</table>\n",
       "</div>"
      ],
      "text/plain": [
       "                                                 url language  \\\n",
       "0  https://www.zara.com/us/en/satin-effect-corset...    en-US   \n",
       "1  https://www.zara.com/us/en/long-print-dress-p0...    en-US   \n",
       "2  https://www.zara.com/us/en/steel-kitchen-sciss...    en-US   \n",
       "3  https://www.zara.com/us/en/linen-blend-striped...    en-US   \n",
       "4  https://www.zara.com/us/en/chiffon-organizer-w...    en-US   \n",
       "\n",
       "                                     name               sku               mpn  \\\n",
       "0            SATIN EFFECT CORSET BODYSUIT   128666521-966-2   128666521-966-2   \n",
       "1                        LONG PRINT DRESS   142448983-701-1   142448983-701-1   \n",
       "2                  STEEL KITCHEN SCISSORS  125067259-220-99  125067259-220-99   \n",
       "3           LINEN BLEND STRIPED ORGANIZER  135325938-737-99  135325938-737-99   \n",
       "4  CHIFFON ORGANIZER WITH MOONS AND STARS  138551470-727-99  138551470-727-99   \n",
       "\n",
       "      brand                                        description  price  \\\n",
       "0      ZARA  Bodysuit with sweetheart neckline and adjustab...   29.9   \n",
       "1      ZARA  Long dress with round neck and long sleeves. B...   49.9   \n",
       "2  ZARAHOME           Forged stainless steel kitchen scissors.   49.9   \n",
       "3  ZARAHOME  Hanging organizer made of a cotton linen blend...   49.9   \n",
       "4  ZARAHOME  Hanging organizer made of cotton chiffon. Feat...   35.9   \n",
       "\n",
       "  currency availability     condition  \\\n",
       "0      USD      InStock  NewCondition   \n",
       "1      USD               NewCondition   \n",
       "2      USD      InStock  NewCondition   \n",
       "3      USD      InStock  NewCondition   \n",
       "4      USD      InStock  NewCondition   \n",
       "\n",
       "                                              images  \\\n",
       "0  https://static.zara.net/stdstatic/1.234.0-b.45...   \n",
       "1  https://static.zara.net/stdstatic/1.234.0-b.45...   \n",
       "2  https://static.zara.net/stdstatic/1.234.0-b.45...   \n",
       "3  https://static.zara.net/stdstatic/1.234.0-b.45...   \n",
       "4  https://static.zara.net/stdstatic/1.234.0-b.45...   \n",
       "\n",
       "                            color  \\\n",
       "0      Color Pale pink | 0219/805   \n",
       "1          Color Brick | 9329/912   \n",
       "2          Color Steel | 2967/479   \n",
       "3  Color Brown / Taupe | 5668/522   \n",
       "4        Color Vanilla | 5641/522   \n",
       "\n",
       "                                           size_list          scraped_at  \n",
       "0                                              S/M/L 2021-10-13 01:21:25  \n",
       "1  XS/XS/ -/ /We'll let you know when the item is... 2021-10-13 01:21:25  \n",
       "2                                      8 x 20 x 1 cm 2021-10-13 01:21:25  \n",
       "3                                     50 x 5 x 60 cm 2021-10-13 01:21:25  \n",
       "4                                     30 x 5 x 60 cm 2021-10-13 01:21:25  "
      ]
     },
     "execution_count": 9,
     "metadata": {},
     "output_type": "execute_result"
    }
   ],
   "source": [
    "df.head()"
   ]
  },
  {
   "cell_type": "code",
   "execution_count": 12,
   "id": "e623e1b7",
   "metadata": {},
   "outputs": [
    {
     "data": {
      "text/plain": [
       "(1516, 15)"
      ]
     },
     "execution_count": 12,
     "metadata": {},
     "output_type": "execute_result"
    }
   ],
   "source": [
    "df.shape  #number of rows and columns"
   ]
  },
  {
   "cell_type": "markdown",
   "id": "450f7019",
   "metadata": {},
   "source": [
    " deleting a column 'mpn' as it had same data as 'sku'"
   ]
  },
  {
   "cell_type": "code",
   "execution_count": 15,
   "id": "1440ce49",
   "metadata": {},
   "outputs": [],
   "source": [
    "df.drop('mpn' , inplace = True, axis=1) "
   ]
  },
  {
   "cell_type": "code",
   "execution_count": 16,
   "id": "0d8d044e",
   "metadata": {},
   "outputs": [
    {
     "data": {
      "text/html": [
       "<div>\n",
       "<style scoped>\n",
       "    .dataframe tbody tr th:only-of-type {\n",
       "        vertical-align: middle;\n",
       "    }\n",
       "\n",
       "    .dataframe tbody tr th {\n",
       "        vertical-align: top;\n",
       "    }\n",
       "\n",
       "    .dataframe thead th {\n",
       "        text-align: right;\n",
       "    }\n",
       "</style>\n",
       "<table border=\"1\" class=\"dataframe\">\n",
       "  <thead>\n",
       "    <tr style=\"text-align: right;\">\n",
       "      <th></th>\n",
       "      <th>url</th>\n",
       "      <th>language</th>\n",
       "      <th>name</th>\n",
       "      <th>sku</th>\n",
       "      <th>brand</th>\n",
       "      <th>description</th>\n",
       "      <th>price</th>\n",
       "      <th>currency</th>\n",
       "      <th>availability</th>\n",
       "      <th>condition</th>\n",
       "      <th>images</th>\n",
       "      <th>color</th>\n",
       "      <th>size_list</th>\n",
       "      <th>scraped_at</th>\n",
       "    </tr>\n",
       "  </thead>\n",
       "  <tbody>\n",
       "    <tr>\n",
       "      <th>0</th>\n",
       "      <td>https://www.zara.com/us/en/satin-effect-corset...</td>\n",
       "      <td>en-US</td>\n",
       "      <td>SATIN EFFECT CORSET BODYSUIT</td>\n",
       "      <td>128666521-966-2</td>\n",
       "      <td>ZARA</td>\n",
       "      <td>Bodysuit with sweetheart neckline and adjustab...</td>\n",
       "      <td>29.9</td>\n",
       "      <td>USD</td>\n",
       "      <td>InStock</td>\n",
       "      <td>NewCondition</td>\n",
       "      <td>https://static.zara.net/stdstatic/1.234.0-b.45...</td>\n",
       "      <td>Color Pale pink | 0219/805</td>\n",
       "      <td>S/M/L</td>\n",
       "      <td>2021-10-13 01:21:25</td>\n",
       "    </tr>\n",
       "    <tr>\n",
       "      <th>1</th>\n",
       "      <td>https://www.zara.com/us/en/long-print-dress-p0...</td>\n",
       "      <td>en-US</td>\n",
       "      <td>LONG PRINT DRESS</td>\n",
       "      <td>142448983-701-1</td>\n",
       "      <td>ZARA</td>\n",
       "      <td>Long dress with round neck and long sleeves. B...</td>\n",
       "      <td>49.9</td>\n",
       "      <td>USD</td>\n",
       "      <td></td>\n",
       "      <td>NewCondition</td>\n",
       "      <td>https://static.zara.net/stdstatic/1.234.0-b.45...</td>\n",
       "      <td>Color Brick | 9329/912</td>\n",
       "      <td>XS/XS/ -/ /We'll let you know when the item is...</td>\n",
       "      <td>2021-10-13 01:21:25</td>\n",
       "    </tr>\n",
       "    <tr>\n",
       "      <th>2</th>\n",
       "      <td>https://www.zara.com/us/en/steel-kitchen-sciss...</td>\n",
       "      <td>en-US</td>\n",
       "      <td>STEEL KITCHEN SCISSORS</td>\n",
       "      <td>125067259-220-99</td>\n",
       "      <td>ZARAHOME</td>\n",
       "      <td>Forged stainless steel kitchen scissors.</td>\n",
       "      <td>49.9</td>\n",
       "      <td>USD</td>\n",
       "      <td>InStock</td>\n",
       "      <td>NewCondition</td>\n",
       "      <td>https://static.zara.net/stdstatic/1.234.0-b.45...</td>\n",
       "      <td>Color Steel | 2967/479</td>\n",
       "      <td>8 x 20 x 1 cm</td>\n",
       "      <td>2021-10-13 01:21:25</td>\n",
       "    </tr>\n",
       "    <tr>\n",
       "      <th>3</th>\n",
       "      <td>https://www.zara.com/us/en/linen-blend-striped...</td>\n",
       "      <td>en-US</td>\n",
       "      <td>LINEN BLEND STRIPED ORGANIZER</td>\n",
       "      <td>135325938-737-99</td>\n",
       "      <td>ZARAHOME</td>\n",
       "      <td>Hanging organizer made of a cotton linen blend...</td>\n",
       "      <td>49.9</td>\n",
       "      <td>USD</td>\n",
       "      <td>InStock</td>\n",
       "      <td>NewCondition</td>\n",
       "      <td>https://static.zara.net/stdstatic/1.234.0-b.45...</td>\n",
       "      <td>Color Brown / Taupe | 5668/522</td>\n",
       "      <td>50 x 5 x 60 cm</td>\n",
       "      <td>2021-10-13 01:21:25</td>\n",
       "    </tr>\n",
       "    <tr>\n",
       "      <th>4</th>\n",
       "      <td>https://www.zara.com/us/en/chiffon-organizer-w...</td>\n",
       "      <td>en-US</td>\n",
       "      <td>CHIFFON ORGANIZER WITH MOONS AND STARS</td>\n",
       "      <td>138551470-727-99</td>\n",
       "      <td>ZARAHOME</td>\n",
       "      <td>Hanging organizer made of cotton chiffon. Feat...</td>\n",
       "      <td>35.9</td>\n",
       "      <td>USD</td>\n",
       "      <td>InStock</td>\n",
       "      <td>NewCondition</td>\n",
       "      <td>https://static.zara.net/stdstatic/1.234.0-b.45...</td>\n",
       "      <td>Color Vanilla | 5641/522</td>\n",
       "      <td>30 x 5 x 60 cm</td>\n",
       "      <td>2021-10-13 01:21:25</td>\n",
       "    </tr>\n",
       "  </tbody>\n",
       "</table>\n",
       "</div>"
      ],
      "text/plain": [
       "                                                 url language  \\\n",
       "0  https://www.zara.com/us/en/satin-effect-corset...    en-US   \n",
       "1  https://www.zara.com/us/en/long-print-dress-p0...    en-US   \n",
       "2  https://www.zara.com/us/en/steel-kitchen-sciss...    en-US   \n",
       "3  https://www.zara.com/us/en/linen-blend-striped...    en-US   \n",
       "4  https://www.zara.com/us/en/chiffon-organizer-w...    en-US   \n",
       "\n",
       "                                     name               sku     brand  \\\n",
       "0            SATIN EFFECT CORSET BODYSUIT   128666521-966-2      ZARA   \n",
       "1                        LONG PRINT DRESS   142448983-701-1      ZARA   \n",
       "2                  STEEL KITCHEN SCISSORS  125067259-220-99  ZARAHOME   \n",
       "3           LINEN BLEND STRIPED ORGANIZER  135325938-737-99  ZARAHOME   \n",
       "4  CHIFFON ORGANIZER WITH MOONS AND STARS  138551470-727-99  ZARAHOME   \n",
       "\n",
       "                                         description  price currency  \\\n",
       "0  Bodysuit with sweetheart neckline and adjustab...   29.9      USD   \n",
       "1  Long dress with round neck and long sleeves. B...   49.9      USD   \n",
       "2           Forged stainless steel kitchen scissors.   49.9      USD   \n",
       "3  Hanging organizer made of a cotton linen blend...   49.9      USD   \n",
       "4  Hanging organizer made of cotton chiffon. Feat...   35.9      USD   \n",
       "\n",
       "  availability     condition  \\\n",
       "0      InStock  NewCondition   \n",
       "1               NewCondition   \n",
       "2      InStock  NewCondition   \n",
       "3      InStock  NewCondition   \n",
       "4      InStock  NewCondition   \n",
       "\n",
       "                                              images  \\\n",
       "0  https://static.zara.net/stdstatic/1.234.0-b.45...   \n",
       "1  https://static.zara.net/stdstatic/1.234.0-b.45...   \n",
       "2  https://static.zara.net/stdstatic/1.234.0-b.45...   \n",
       "3  https://static.zara.net/stdstatic/1.234.0-b.45...   \n",
       "4  https://static.zara.net/stdstatic/1.234.0-b.45...   \n",
       "\n",
       "                            color  \\\n",
       "0      Color Pale pink | 0219/805   \n",
       "1          Color Brick | 9329/912   \n",
       "2          Color Steel | 2967/479   \n",
       "3  Color Brown / Taupe | 5668/522   \n",
       "4        Color Vanilla | 5641/522   \n",
       "\n",
       "                                           size_list          scraped_at  \n",
       "0                                              S/M/L 2021-10-13 01:21:25  \n",
       "1  XS/XS/ -/ /We'll let you know when the item is... 2021-10-13 01:21:25  \n",
       "2                                      8 x 20 x 1 cm 2021-10-13 01:21:25  \n",
       "3                                     50 x 5 x 60 cm 2021-10-13 01:21:25  \n",
       "4                                     30 x 5 x 60 cm 2021-10-13 01:21:25  "
      ]
     },
     "execution_count": 16,
     "metadata": {},
     "output_type": "execute_result"
    }
   ],
   "source": [
    "df.head()"
   ]
  },
  {
   "cell_type": "markdown",
   "id": "8eda7c13",
   "metadata": {},
   "source": [
    "checking if there any null values in the dataframe"
   ]
  },
  {
   "cell_type": "code",
   "execution_count": 19,
   "id": "b2b2c34b",
   "metadata": {},
   "outputs": [
    {
     "data": {
      "text/plain": [
       "False"
      ]
     },
     "execution_count": 19,
     "metadata": {},
     "output_type": "execute_result"
    }
   ],
   "source": [
    "df.isnull().values.any() "
   ]
  },
  {
   "cell_type": "code",
   "execution_count": 18,
   "id": "0c02ceaf",
   "metadata": {},
   "outputs": [
    {
     "data": {
      "text/plain": [
       "0"
      ]
     },
     "execution_count": 18,
     "metadata": {},
     "output_type": "execute_result"
    }
   ],
   "source": [
    "df.isnull().sum().sum()"
   ]
  },
  {
   "cell_type": "code",
   "execution_count": 26,
   "id": "9b9c7943",
   "metadata": {},
   "outputs": [
    {
     "data": {
      "text/plain": [
       "url                     object\n",
       "language                object\n",
       "name                    object\n",
       "sku                     object\n",
       "brand                   object\n",
       "description             object\n",
       "price                  float64\n",
       "currency                object\n",
       "availability            object\n",
       "condition               object\n",
       "images                  object\n",
       "color                   object\n",
       "size_list               object\n",
       "scraped_at      datetime64[ns]\n",
       "dtype: object"
      ]
     },
     "execution_count": 26,
     "metadata": {},
     "output_type": "execute_result"
    }
   ],
   "source": [
    "df.dtypes"
   ]
  },
  {
   "cell_type": "markdown",
   "id": "20a9ee28",
   "metadata": {},
   "source": [
    "converting datatypes of price column"
   ]
  },
  {
   "cell_type": "code",
   "execution_count": 31,
   "id": "f285a661",
   "metadata": {},
   "outputs": [],
   "source": [
    "df['price'] = df['price'].astype('int') "
   ]
  },
  {
   "cell_type": "code",
   "execution_count": 32,
   "id": "5dc2449c",
   "metadata": {},
   "outputs": [
    {
     "data": {
      "text/plain": [
       "url                     object\n",
       "language                object\n",
       "name                    object\n",
       "sku                     object\n",
       "brand                   object\n",
       "description             object\n",
       "price                    int32\n",
       "currency                object\n",
       "availability            object\n",
       "condition               object\n",
       "images                  object\n",
       "color                   object\n",
       "size_list               object\n",
       "scraped_at      datetime64[ns]\n",
       "dtype: object"
      ]
     },
     "execution_count": 32,
     "metadata": {},
     "output_type": "execute_result"
    }
   ],
   "source": [
    "df.dtypes"
   ]
  },
  {
   "cell_type": "markdown",
   "id": "9f25d745",
   "metadata": {},
   "source": [
    "highest and lowest price of a product in the data-set"
   ]
  },
  {
   "cell_type": "code",
   "execution_count": null,
   "id": "b97afa3f",
   "metadata": {},
   "outputs": [],
   "source": [
    "df['price'].max() "
   ]
  },
  {
   "cell_type": "code",
   "execution_count": 34,
   "id": "50c0df1a",
   "metadata": {},
   "outputs": [
    {
     "data": {
      "text/plain": [
       "2"
      ]
     },
     "execution_count": 34,
     "metadata": {},
     "output_type": "execute_result"
    }
   ],
   "source": [
    "df['price'].min()"
   ]
  },
  {
   "cell_type": "code",
   "execution_count": 61,
   "id": "f0825d20",
   "metadata": {},
   "outputs": [
    {
     "data": {
      "text/html": [
       "<div>\n",
       "<style scoped>\n",
       "    .dataframe tbody tr th:only-of-type {\n",
       "        vertical-align: middle;\n",
       "    }\n",
       "\n",
       "    .dataframe tbody tr th {\n",
       "        vertical-align: top;\n",
       "    }\n",
       "\n",
       "    .dataframe thead th {\n",
       "        text-align: right;\n",
       "    }\n",
       "</style>\n",
       "<table border=\"1\" class=\"dataframe\">\n",
       "  <thead>\n",
       "    <tr style=\"text-align: right;\">\n",
       "      <th></th>\n",
       "      <th>url</th>\n",
       "      <th>language</th>\n",
       "      <th>name</th>\n",
       "      <th>sku</th>\n",
       "      <th>brand</th>\n",
       "      <th>description</th>\n",
       "      <th>price</th>\n",
       "      <th>currency</th>\n",
       "      <th>availability</th>\n",
       "      <th>condition</th>\n",
       "      <th>images</th>\n",
       "      <th>color</th>\n",
       "      <th>size_list</th>\n",
       "      <th>scraped_at</th>\n",
       "    </tr>\n",
       "  </thead>\n",
       "  <tbody>\n",
       "    <tr>\n",
       "      <th>1119</th>\n",
       "      <td>https://www.zara.com/us/en/floral-print-tumble...</td>\n",
       "      <td>en-US</td>\n",
       "      <td>FLORAL PRINT TUMBLER</td>\n",
       "      <td>116908550-250-99</td>\n",
       "      <td>ZARAHOME</td>\n",
       "      <td>Glass tumbler with a floral print.</td>\n",
       "      <td>2</td>\n",
       "      <td>USD</td>\n",
       "      <td>InStock</td>\n",
       "      <td>NewCondition</td>\n",
       "      <td>https://static.zara.net/stdstatic/1.234.0-b.45...</td>\n",
       "      <td>Color White | 6221/401</td>\n",
       "      <td>8.7 x 9 x 8.7 cm</td>\n",
       "      <td>2021-10-13 01:23:18</td>\n",
       "    </tr>\n",
       "    <tr>\n",
       "      <th>1075</th>\n",
       "      <td>https://www.zara.com/us/en/raised-square-desig...</td>\n",
       "      <td>en-US</td>\n",
       "      <td>RAISED SQUARE-DESIGN TUMBLER</td>\n",
       "      <td>121364859-990-99</td>\n",
       "      <td>ZARAHOME</td>\n",
       "      <td>Glass tumbler with raised square effect.</td>\n",
       "      <td>2</td>\n",
       "      <td>USD</td>\n",
       "      <td>InStock</td>\n",
       "      <td>NewCondition</td>\n",
       "      <td>https://static.zara.net/stdstatic/1.234.0-b.45...</td>\n",
       "      <td>0284/401</td>\n",
       "      <td>4.5 x 12 x 8.5 cm</td>\n",
       "      <td>2021-10-13 01:23:14</td>\n",
       "    </tr>\n",
       "    <tr>\n",
       "      <th>1371</th>\n",
       "      <td>https://www.zara.com/us/en/hammered-tumbler-p4...</td>\n",
       "      <td>en-US</td>\n",
       "      <td>HAMMERED TUMBLER</td>\n",
       "      <td>122040891-990-99</td>\n",
       "      <td>ZARAHOME</td>\n",
       "      <td>Glass tumbler with a cut diamond pattern design.</td>\n",
       "      <td>2</td>\n",
       "      <td>USD</td>\n",
       "      <td>InStock</td>\n",
       "      <td>NewCondition</td>\n",
       "      <td>https://static.zara.net/stdstatic/1.234.0-b.45...</td>\n",
       "      <td>2678/401</td>\n",
       "      <td>10.2 x 9.1 x 9.1 cm</td>\n",
       "      <td>2021-10-13 01:23:43</td>\n",
       "    </tr>\n",
       "    <tr>\n",
       "      <th>977</th>\n",
       "      <td>https://www.zara.com/us/en/transparent-soft-dr...</td>\n",
       "      <td>en-US</td>\n",
       "      <td>TRANSPARENT SOFT DRINK GLASS</td>\n",
       "      <td>122040912-990-99</td>\n",
       "      <td>ZARAHOME</td>\n",
       "      <td>Thick transparent glass soft drink tumbler wit...</td>\n",
       "      <td>2</td>\n",
       "      <td>USD</td>\n",
       "      <td>InStock</td>\n",
       "      <td>NewCondition</td>\n",
       "      <td>https://static.zara.net/stdstatic/1.234.0-b.45...</td>\n",
       "      <td>1643/402</td>\n",
       "      <td>7 x 12.9 x 9.1 cm</td>\n",
       "      <td>2021-10-13 01:23:04</td>\n",
       "    </tr>\n",
       "    <tr>\n",
       "      <th>1145</th>\n",
       "      <td>https://www.zara.com/us/en/raised-design-paper...</td>\n",
       "      <td>en-US</td>\n",
       "      <td>RAISED DESIGN PAPER NAPKIN (PACK OF 20)</td>\n",
       "      <td>111472745-710-99</td>\n",
       "      <td>ZARAHOME</td>\n",
       "      <td>Paper napkins with a textured design. Sold in ...</td>\n",
       "      <td>4</td>\n",
       "      <td>USD</td>\n",
       "      <td>InStock</td>\n",
       "      <td>NewCondition</td>\n",
       "      <td>https://static.zara.net/stdstatic/1.234.0-b.45...</td>\n",
       "      <td>Color Beige | 8286/022</td>\n",
       "      <td>Napkins/15 x 15 x 2 cm</td>\n",
       "      <td>2021-10-13 01:23:20</td>\n",
       "    </tr>\n",
       "  </tbody>\n",
       "</table>\n",
       "</div>"
      ],
      "text/plain": [
       "                                                    url language  \\\n",
       "1119  https://www.zara.com/us/en/floral-print-tumble...    en-US   \n",
       "1075  https://www.zara.com/us/en/raised-square-desig...    en-US   \n",
       "1371  https://www.zara.com/us/en/hammered-tumbler-p4...    en-US   \n",
       "977   https://www.zara.com/us/en/transparent-soft-dr...    en-US   \n",
       "1145  https://www.zara.com/us/en/raised-design-paper...    en-US   \n",
       "\n",
       "                                         name               sku     brand  \\\n",
       "1119                     FLORAL PRINT TUMBLER  116908550-250-99  ZARAHOME   \n",
       "1075             RAISED SQUARE-DESIGN TUMBLER  121364859-990-99  ZARAHOME   \n",
       "1371                         HAMMERED TUMBLER  122040891-990-99  ZARAHOME   \n",
       "977              TRANSPARENT SOFT DRINK GLASS  122040912-990-99  ZARAHOME   \n",
       "1145  RAISED DESIGN PAPER NAPKIN (PACK OF 20)  111472745-710-99  ZARAHOME   \n",
       "\n",
       "                                            description  price currency  \\\n",
       "1119                 Glass tumbler with a floral print.      2      USD   \n",
       "1075           Glass tumbler with raised square effect.      2      USD   \n",
       "1371   Glass tumbler with a cut diamond pattern design.      2      USD   \n",
       "977   Thick transparent glass soft drink tumbler wit...      2      USD   \n",
       "1145  Paper napkins with a textured design. Sold in ...      4      USD   \n",
       "\n",
       "     availability     condition  \\\n",
       "1119      InStock  NewCondition   \n",
       "1075      InStock  NewCondition   \n",
       "1371      InStock  NewCondition   \n",
       "977       InStock  NewCondition   \n",
       "1145      InStock  NewCondition   \n",
       "\n",
       "                                                 images  \\\n",
       "1119  https://static.zara.net/stdstatic/1.234.0-b.45...   \n",
       "1075  https://static.zara.net/stdstatic/1.234.0-b.45...   \n",
       "1371  https://static.zara.net/stdstatic/1.234.0-b.45...   \n",
       "977   https://static.zara.net/stdstatic/1.234.0-b.45...   \n",
       "1145  https://static.zara.net/stdstatic/1.234.0-b.45...   \n",
       "\n",
       "                       color               size_list          scraped_at  \n",
       "1119  Color White | 6221/401        8.7 x 9 x 8.7 cm 2021-10-13 01:23:18  \n",
       "1075                0284/401       4.5 x 12 x 8.5 cm 2021-10-13 01:23:14  \n",
       "1371                2678/401     10.2 x 9.1 x 9.1 cm 2021-10-13 01:23:43  \n",
       "977                 1643/402       7 x 12.9 x 9.1 cm 2021-10-13 01:23:04  \n",
       "1145  Color Beige | 8286/022  Napkins/15 x 15 x 2 cm 2021-10-13 01:23:20  "
      ]
     },
     "execution_count": 61,
     "metadata": {},
     "output_type": "execute_result"
    }
   ],
   "source": [
    "##Bottom 5 values in a column called 'price' in a dataframe called 'df'.\n",
    "df.sort_values(by=['price']).head(5)\n"
   ]
  },
  {
   "cell_type": "markdown",
   "id": "8a37bf2d",
   "metadata": {},
   "source": [
    "Plotting the bar graph of Bottom 5 products based on price"
   ]
  },
  {
   "cell_type": "code",
   "execution_count": 151,
   "id": "dfbf124c",
   "metadata": {},
   "outputs": [
    {
     "data": {
      "text/plain": [
       "Text(0, 0.5, 'Products Name')"
      ]
     },
     "execution_count": 151,
     "metadata": {},
     "output_type": "execute_result"
    },
    {
     "data": {
      "image/png": "[encoded data removed]",
      "text/plain": [
       "<Figure size 640x480 with 1 Axes>"
      ]
     },
     "metadata": {},
     "output_type": "display_data"
    }
   ],
   "source": [
    "x = df.groupby('name')['price'].mean().sort_values().head(5)\n",
    "x.plot(kind='barh', color='g')\n",
    "plt.xlabel('Price in USD($)', color = 'r')\n",
    "plt.ylabel('Products Name', color = 'r')"
   ]
  },
  {
   "cell_type": "markdown",
   "id": "60380721",
   "metadata": {},
   "source": [
    "**Top 5 values in a column called 'price' in a dataframe."
   ]
  },
  {
   "cell_type": "code",
   "execution_count": 133,
   "id": "4efd019c",
   "metadata": {},
   "outputs": [
    {
     "data": {
      "text/html": [
       "<div>\n",
       "<style scoped>\n",
       "    .dataframe tbody tr th:only-of-type {\n",
       "        vertical-align: middle;\n",
       "    }\n",
       "\n",
       "    .dataframe tbody tr th {\n",
       "        vertical-align: top;\n",
       "    }\n",
       "\n",
       "    .dataframe thead th {\n",
       "        text-align: right;\n",
       "    }\n",
       "</style>\n",
       "<table border=\"1\" class=\"dataframe\">\n",
       "  <thead>\n",
       "    <tr style=\"text-align: right;\">\n",
       "      <th></th>\n",
       "      <th>url</th>\n",
       "      <th>language</th>\n",
       "      <th>name</th>\n",
       "      <th>sku</th>\n",
       "      <th>brand</th>\n",
       "      <th>description</th>\n",
       "      <th>price</th>\n",
       "      <th>currency</th>\n",
       "      <th>availability</th>\n",
       "      <th>condition</th>\n",
       "      <th>images</th>\n",
       "      <th>color</th>\n",
       "      <th>size_list</th>\n",
       "      <th>scraped_at</th>\n",
       "    </tr>\n",
       "  </thead>\n",
       "  <tbody>\n",
       "    <tr>\n",
       "      <th>1389</th>\n",
       "      <td>https://www.zara.com/us/en/jute-rug-p49838029....</td>\n",
       "      <td>en-US</td>\n",
       "      <td>JUTE RUG</td>\n",
       "      <td>115416723-052-81</td>\n",
       "      <td>ZARAHOME</td>\n",
       "      <td>Natural-colored jute rug.</td>\n",
       "      <td>449</td>\n",
       "      <td>USD</td>\n",
       "      <td>out of stock</td>\n",
       "      <td>NewCondition</td>\n",
       "      <td>https://static.zara.net/stdstatic/1.234.0-b.45...</td>\n",
       "      <td>Color Natural | 9838/029</td>\n",
       "      <td>23,5 x 47 \"/449.00 USD/27,5 x 78,5 \"/89.90 USD...</td>\n",
       "      <td>2021-10-13 01:23:44</td>\n",
       "    </tr>\n",
       "    <tr>\n",
       "      <th>1226</th>\n",
       "      <td>https://www.zara.com/us/en/kassl-long-satin-ef...</td>\n",
       "      <td>en-US</td>\n",
       "      <td>KASSL LONG SATIN EFFECT COAT LIMITED EDITION</td>\n",
       "      <td>139613138-686-1</td>\n",
       "      <td>ZARA</td>\n",
       "      <td>KASSL oversized long cocoon coat made of doubl...</td>\n",
       "      <td>399</td>\n",
       "      <td>USD</td>\n",
       "      <td>out of stock</td>\n",
       "      <td>NewCondition</td>\n",
       "      <td>https://static.zara.net/stdstatic/1.234.0-b.45...</td>\n",
       "      <td>Color Dark maroon | 8747/822</td>\n",
       "      <td>XS/XS/ -/ /We'll let you know when the item is...</td>\n",
       "      <td>2021-10-13 01:23:29</td>\n",
       "    </tr>\n",
       "    <tr>\n",
       "      <th>403</th>\n",
       "      <td>https://www.zara.com/us/en/down-mattress-toppe...</td>\n",
       "      <td>en-US</td>\n",
       "      <td>DOWN MATTRESS TOPPER</td>\n",
       "      <td>142449640-250-12</td>\n",
       "      <td>ZARAHOME</td>\n",
       "      <td>Down and feather mattress cover. Achieve the h...</td>\n",
       "      <td>299</td>\n",
       "      <td>USD</td>\n",
       "      <td>InStock</td>\n",
       "      <td>NewCondition</td>\n",
       "      <td>https://static.zara.net/stdstatic/1.234.0-b.45...</td>\n",
       "      <td>Color White | 0163/086</td>\n",
       "      <td>Single ()/35,5 x 78,5 \"/299.00 USD/King ()/59 ...</td>\n",
       "      <td>2021-10-13 01:22:06</td>\n",
       "    </tr>\n",
       "    <tr>\n",
       "      <th>1281</th>\n",
       "      <td>https://www.zara.com/us/en/leather-high-heeled...</td>\n",
       "      <td>en-US</td>\n",
       "      <td>LEATHER HIGH HEELED BOOTS WITH CHAIN</td>\n",
       "      <td>137549565-040-36</td>\n",
       "      <td>ZARA</td>\n",
       "      <td>Heeled leather boots with metallic chain detai...</td>\n",
       "      <td>299</td>\n",
       "      <td>USD</td>\n",
       "      <td>InStock</td>\n",
       "      <td>NewCondition</td>\n",
       "      <td>https://static.zara.net/stdstatic/1.234.0-b.45...</td>\n",
       "      <td>Color Black | 1001/810</td>\n",
       "      <td>6/6½/7½/8/9/10</td>\n",
       "      <td>2021-10-13 01:23:34</td>\n",
       "    </tr>\n",
       "    <tr>\n",
       "      <th>1434</th>\n",
       "      <td>https://www.zara.com/us/en/oak-bedside-table-w...</td>\n",
       "      <td>en-US</td>\n",
       "      <td>OAK BEDSIDE TABLE WITH DRAWER</td>\n",
       "      <td>135326848-052-99</td>\n",
       "      <td>ZARAHOME</td>\n",
       "      <td>Night table with drawer, made of 100% oak wood...</td>\n",
       "      <td>269</td>\n",
       "      <td>USD</td>\n",
       "      <td>InStock</td>\n",
       "      <td>NewCondition</td>\n",
       "      <td>https://static.zara.net/stdstatic/1.234.0-b.45...</td>\n",
       "      <td>Color Natural | 1598/072</td>\n",
       "      <td>45 x 55 x 35 cm</td>\n",
       "      <td>2021-10-13 01:23:49</td>\n",
       "    </tr>\n",
       "  </tbody>\n",
       "</table>\n",
       "</div>"
      ],
      "text/plain": [
       "                                                    url language  \\\n",
       "1389  https://www.zara.com/us/en/jute-rug-p49838029....    en-US   \n",
       "1226  https://www.zara.com/us/en/kassl-long-satin-ef...    en-US   \n",
       "403   https://www.zara.com/us/en/down-mattress-toppe...    en-US   \n",
       "1281  https://www.zara.com/us/en/leather-high-heeled...    en-US   \n",
       "1434  https://www.zara.com/us/en/oak-bedside-table-w...    en-US   \n",
       "\n",
       "                                              name               sku  \\\n",
       "1389                                      JUTE RUG  115416723-052-81   \n",
       "1226  KASSL LONG SATIN EFFECT COAT LIMITED EDITION   139613138-686-1   \n",
       "403                           DOWN MATTRESS TOPPER  142449640-250-12   \n",
       "1281          LEATHER HIGH HEELED BOOTS WITH CHAIN  137549565-040-36   \n",
       "1434                 OAK BEDSIDE TABLE WITH DRAWER  135326848-052-99   \n",
       "\n",
       "         brand                                        description  price  \\\n",
       "1389  ZARAHOME                          Natural-colored jute rug.    449   \n",
       "1226      ZARA  KASSL oversized long cocoon coat made of doubl...    399   \n",
       "403   ZARAHOME  Down and feather mattress cover. Achieve the h...    299   \n",
       "1281      ZARA  Heeled leather boots with metallic chain detai...    299   \n",
       "1434  ZARAHOME  Night table with drawer, made of 100% oak wood...    269   \n",
       "\n",
       "     currency  availability     condition  \\\n",
       "1389      USD  out of stock  NewCondition   \n",
       "1226      USD  out of stock  NewCondition   \n",
       "403       USD       InStock  NewCondition   \n",
       "1281      USD       InStock  NewCondition   \n",
       "1434      USD       InStock  NewCondition   \n",
       "\n",
       "                                                 images  \\\n",
       "1389  https://static.zara.net/stdstatic/1.234.0-b.45...   \n",
       "1226  https://static.zara.net/stdstatic/1.234.0-b.45...   \n",
       "403   https://static.zara.net/stdstatic/1.234.0-b.45...   \n",
       "1281  https://static.zara.net/stdstatic/1.234.0-b.45...   \n",
       "1434  https://static.zara.net/stdstatic/1.234.0-b.45...   \n",
       "\n",
       "                             color  \\\n",
       "1389      Color Natural | 9838/029   \n",
       "1226  Color Dark maroon | 8747/822   \n",
       "403         Color White | 0163/086   \n",
       "1281        Color Black | 1001/810   \n",
       "1434      Color Natural | 1598/072   \n",
       "\n",
       "                                              size_list          scraped_at  \n",
       "1389  23,5 x 47 \"/449.00 USD/27,5 x 78,5 \"/89.90 USD... 2021-10-13 01:23:44  \n",
       "1226  XS/XS/ -/ /We'll let you know when the item is... 2021-10-13 01:23:29  \n",
       "403   Single ()/35,5 x 78,5 \"/299.00 USD/King ()/59 ... 2021-10-13 01:22:06  \n",
       "1281                                     6/6½/7½/8/9/10 2021-10-13 01:23:34  \n",
       "1434                                    45 x 55 x 35 cm 2021-10-13 01:23:49  "
      ]
     },
     "execution_count": 133,
     "metadata": {},
     "output_type": "execute_result"
    }
   ],
   "source": [
    "df.sort_values('price', ascending=False).head(5)"
   ]
  },
  {
   "cell_type": "markdown",
   "id": "ce764d33",
   "metadata": {},
   "source": [
    "***Plotting the bar graph with 5 highest priced products"
   ]
  },
  {
   "cell_type": "code",
   "execution_count": 174,
   "id": "220f27c5",
   "metadata": {},
   "outputs": [
    {
     "data": {
      "text/plain": [
       "Text(0.5, 0, 'Products Name')"
      ]
     },
     "execution_count": 174,
     "metadata": {},
     "output_type": "execute_result"
    },
    {
     "data": {
      "image/png": "[encoded data removed]",
      "text/plain": [
       "<Figure size 640x480 with 1 Axes>"
      ]
     },
     "metadata": {},
     "output_type": "display_data"
    }
   ],
   "source": [
    "x = df.groupby('name')['price'].mean().sort_values().tail(5)\n",
    "x.plot(kind='bar', color ='y')\n",
    "plt.ylabel('Price in USD($)', color = 'b')\n",
    "plt.xlabel('Products Name', color = 'b')"
   ]
  },
  {
   "cell_type": "code",
   "execution_count": 36,
   "id": "bb7e51ce",
   "metadata": {},
   "outputs": [
    {
     "data": {
      "text/plain": [
       "44.83970976253298"
      ]
     },
     "execution_count": 36,
     "metadata": {},
     "output_type": "execute_result"
    }
   ],
   "source": [
    "df['price'].mean() #average price"
   ]
  },
  {
   "cell_type": "markdown",
   "id": "57321345",
   "metadata": {},
   "source": [
    "Finding how many items are InStock and out of stock"
   ]
  },
  {
   "cell_type": "code",
   "execution_count": 43,
   "id": "c2ddd126",
   "metadata": {},
   "outputs": [
    {
     "data": {
      "text/plain": [
       "array(['InStock', ''], dtype=object)"
      ]
     },
     "execution_count": 43,
     "metadata": {},
     "output_type": "execute_result"
    }
   ],
   "source": [
    "df['availability'].unique()"
   ]
  },
  {
   "cell_type": "code",
   "execution_count": 44,
   "id": "ec9ec343",
   "metadata": {},
   "outputs": [],
   "source": [
    "df['availability'] = df['availability'].replace([''], 'out of stock')"
   ]
  },
  {
   "cell_type": "code",
   "execution_count": 45,
   "id": "4bd04c29",
   "metadata": {},
   "outputs": [
    {
     "data": {
      "text/plain": [
       "array(['InStock', 'out of stock'], dtype=object)"
      ]
     },
     "execution_count": 45,
     "metadata": {},
     "output_type": "execute_result"
    }
   ],
   "source": [
    "df['availability'].unique()"
   ]
  },
  {
   "cell_type": "markdown",
   "id": "0f6ad47a",
   "metadata": {},
   "source": [
    "***Finding how many products belong to ZARA and ZARAHOME and plotting the results in a pie chart"
   ]
  },
  {
   "cell_type": "code",
   "execution_count": 76,
   "id": "efacf172",
   "metadata": {},
   "outputs": [
    {
     "data": {
      "text/plain": [
       "1270"
      ]
     },
     "execution_count": 76,
     "metadata": {},
     "output_type": "execute_result"
    }
   ],
   "source": [
    "len(df[df['brand']=='ZARA'])"
   ]
  },
  {
   "cell_type": "code",
   "execution_count": 79,
   "id": "eef75540",
   "metadata": {},
   "outputs": [
    {
     "data": {
      "text/plain": [
       "246"
      ]
     },
     "execution_count": 79,
     "metadata": {},
     "output_type": "execute_result"
    }
   ],
   "source": [
    "len(df[df['brand']=='ZARAHOME'])"
   ]
  },
  {
   "cell_type": "code",
   "execution_count": 202,
   "id": "d177b46c",
   "metadata": {},
   "outputs": [
    {
     "data": {
      "text/plain": [
       "<AxesSubplot:xlabel='brand', ylabel='count'>"
      ]
     },
     "execution_count": 202,
     "metadata": {},
     "output_type": "execute_result"
    },
    {
     "data": {
      "image/png": "[encoded data removed]",
      "text/plain": [
       "<Figure size 640x480 with 1 Axes>"
      ]
     },
     "metadata": {},
     "output_type": "display_data"
    }
   ],
   "source": [
    "sns.countplot(x ='brand', data = df)"
   ]
  },
  {
   "cell_type": "code",
   "execution_count": 87,
   "id": "a8639f51",
   "metadata": {},
   "outputs": [
    {
     "data": {
      "text/html": [
       "<div>\n",
       "<style scoped>\n",
       "    .dataframe tbody tr th:only-of-type {\n",
       "        vertical-align: middle;\n",
       "    }\n",
       "\n",
       "    .dataframe tbody tr th {\n",
       "        vertical-align: top;\n",
       "    }\n",
       "\n",
       "    .dataframe thead th {\n",
       "        text-align: right;\n",
       "    }\n",
       "</style>\n",
       "<table border=\"1\" class=\"dataframe\">\n",
       "  <thead>\n",
       "    <tr style=\"text-align: right;\">\n",
       "      <th></th>\n",
       "      <th>url</th>\n",
       "      <th>language</th>\n",
       "      <th>name</th>\n",
       "      <th>sku</th>\n",
       "      <th>brand</th>\n",
       "      <th>description</th>\n",
       "      <th>price</th>\n",
       "      <th>currency</th>\n",
       "      <th>availability</th>\n",
       "      <th>condition</th>\n",
       "      <th>images</th>\n",
       "      <th>color</th>\n",
       "      <th>size_list</th>\n",
       "      <th>scraped_at</th>\n",
       "    </tr>\n",
       "  </thead>\n",
       "  <tbody>\n",
       "    <tr>\n",
       "      <th>1389</th>\n",
       "      <td>https://www.zara.com/us/en/jute-rug-p49838029....</td>\n",
       "      <td>en-US</td>\n",
       "      <td>JUTE RUG</td>\n",
       "      <td>115416723-052-81</td>\n",
       "      <td>ZARAHOME</td>\n",
       "      <td>Natural-colored jute rug.</td>\n",
       "      <td>449</td>\n",
       "      <td>USD</td>\n",
       "      <td>out of stock</td>\n",
       "      <td>NewCondition</td>\n",
       "      <td>https://static.zara.net/stdstatic/1.234.0-b.45...</td>\n",
       "      <td>Color Natural | 9838/029</td>\n",
       "      <td>23,5 x 47 \"/449.00 USD/27,5 x 78,5 \"/89.90 USD...</td>\n",
       "      <td>2021-10-13 01:23:44</td>\n",
       "    </tr>\n",
       "  </tbody>\n",
       "</table>\n",
       "</div>"
      ],
      "text/plain": [
       "                                                    url language      name  \\\n",
       "1389  https://www.zara.com/us/en/jute-rug-p49838029....    en-US  JUTE RUG   \n",
       "\n",
       "                   sku     brand                description  price currency  \\\n",
       "1389  115416723-052-81  ZARAHOME  Natural-colored jute rug.    449      USD   \n",
       "\n",
       "      availability     condition  \\\n",
       "1389  out of stock  NewCondition   \n",
       "\n",
       "                                                 images  \\\n",
       "1389  https://static.zara.net/stdstatic/1.234.0-b.45...   \n",
       "\n",
       "                         color  \\\n",
       "1389  Color Natural | 9838/029   \n",
       "\n",
       "                                              size_list          scraped_at  \n",
       "1389  23,5 x 47 \"/449.00 USD/27,5 x 78,5 \"/89.90 USD... 2021-10-13 01:23:44  "
      ]
     },
     "execution_count": 87,
     "metadata": {},
     "output_type": "execute_result"
    }
   ],
   "source": [
    "df[(df.price == df.price.max()) & (df.brand =='ZARAHOME')] #higest priced item in ZARAHOME"
   ]
  },
  {
   "cell_type": "code",
   "execution_count": 102,
   "id": "3fd87aac",
   "metadata": {},
   "outputs": [
    {
     "data": {
      "text/html": [
       "<div>\n",
       "<style scoped>\n",
       "    .dataframe tbody tr th:only-of-type {\n",
       "        vertical-align: middle;\n",
       "    }\n",
       "\n",
       "    .dataframe tbody tr th {\n",
       "        vertical-align: top;\n",
       "    }\n",
       "\n",
       "    .dataframe thead th {\n",
       "        text-align: right;\n",
       "    }\n",
       "</style>\n",
       "<table border=\"1\" class=\"dataframe\">\n",
       "  <thead>\n",
       "    <tr style=\"text-align: right;\">\n",
       "      <th></th>\n",
       "      <th>url</th>\n",
       "      <th>language</th>\n",
       "      <th>name</th>\n",
       "      <th>sku</th>\n",
       "      <th>brand</th>\n",
       "      <th>description</th>\n",
       "      <th>price</th>\n",
       "      <th>currency</th>\n",
       "      <th>availability</th>\n",
       "      <th>condition</th>\n",
       "      <th>images</th>\n",
       "      <th>color</th>\n",
       "      <th>size_list</th>\n",
       "      <th>scraped_at</th>\n",
       "    </tr>\n",
       "  </thead>\n",
       "  <tbody>\n",
       "    <tr>\n",
       "      <th>977</th>\n",
       "      <td>https://www.zara.com/us/en/transparent-soft-dr...</td>\n",
       "      <td>en-US</td>\n",
       "      <td>TRANSPARENT SOFT DRINK GLASS</td>\n",
       "      <td>122040912-990-99</td>\n",
       "      <td>ZARAHOME</td>\n",
       "      <td>Thick transparent glass soft drink tumbler wit...</td>\n",
       "      <td>2</td>\n",
       "      <td>USD</td>\n",
       "      <td>InStock</td>\n",
       "      <td>NewCondition</td>\n",
       "      <td>https://static.zara.net/stdstatic/1.234.0-b.45...</td>\n",
       "      <td>1643/402</td>\n",
       "      <td>7 x 12.9 x 9.1 cm</td>\n",
       "      <td>2021-10-13 01:23:04</td>\n",
       "    </tr>\n",
       "    <tr>\n",
       "      <th>1075</th>\n",
       "      <td>https://www.zara.com/us/en/raised-square-desig...</td>\n",
       "      <td>en-US</td>\n",
       "      <td>RAISED SQUARE-DESIGN TUMBLER</td>\n",
       "      <td>121364859-990-99</td>\n",
       "      <td>ZARAHOME</td>\n",
       "      <td>Glass tumbler with raised square effect.</td>\n",
       "      <td>2</td>\n",
       "      <td>USD</td>\n",
       "      <td>InStock</td>\n",
       "      <td>NewCondition</td>\n",
       "      <td>https://static.zara.net/stdstatic/1.234.0-b.45...</td>\n",
       "      <td>0284/401</td>\n",
       "      <td>4.5 x 12 x 8.5 cm</td>\n",
       "      <td>2021-10-13 01:23:14</td>\n",
       "    </tr>\n",
       "    <tr>\n",
       "      <th>1119</th>\n",
       "      <td>https://www.zara.com/us/en/floral-print-tumble...</td>\n",
       "      <td>en-US</td>\n",
       "      <td>FLORAL PRINT TUMBLER</td>\n",
       "      <td>116908550-250-99</td>\n",
       "      <td>ZARAHOME</td>\n",
       "      <td>Glass tumbler with a floral print.</td>\n",
       "      <td>2</td>\n",
       "      <td>USD</td>\n",
       "      <td>InStock</td>\n",
       "      <td>NewCondition</td>\n",
       "      <td>https://static.zara.net/stdstatic/1.234.0-b.45...</td>\n",
       "      <td>Color White | 6221/401</td>\n",
       "      <td>8.7 x 9 x 8.7 cm</td>\n",
       "      <td>2021-10-13 01:23:18</td>\n",
       "    </tr>\n",
       "    <tr>\n",
       "      <th>1371</th>\n",
       "      <td>https://www.zara.com/us/en/hammered-tumbler-p4...</td>\n",
       "      <td>en-US</td>\n",
       "      <td>HAMMERED TUMBLER</td>\n",
       "      <td>122040891-990-99</td>\n",
       "      <td>ZARAHOME</td>\n",
       "      <td>Glass tumbler with a cut diamond pattern design.</td>\n",
       "      <td>2</td>\n",
       "      <td>USD</td>\n",
       "      <td>InStock</td>\n",
       "      <td>NewCondition</td>\n",
       "      <td>https://static.zara.net/stdstatic/1.234.0-b.45...</td>\n",
       "      <td>2678/401</td>\n",
       "      <td>10.2 x 9.1 x 9.1 cm</td>\n",
       "      <td>2021-10-13 01:23:43</td>\n",
       "    </tr>\n",
       "  </tbody>\n",
       "</table>\n",
       "</div>"
      ],
      "text/plain": [
       "                                                    url language  \\\n",
       "977   https://www.zara.com/us/en/transparent-soft-dr...    en-US   \n",
       "1075  https://www.zara.com/us/en/raised-square-desig...    en-US   \n",
       "1119  https://www.zara.com/us/en/floral-print-tumble...    en-US   \n",
       "1371  https://www.zara.com/us/en/hammered-tumbler-p4...    en-US   \n",
       "\n",
       "                              name               sku     brand  \\\n",
       "977   TRANSPARENT SOFT DRINK GLASS  122040912-990-99  ZARAHOME   \n",
       "1075  RAISED SQUARE-DESIGN TUMBLER  121364859-990-99  ZARAHOME   \n",
       "1119          FLORAL PRINT TUMBLER  116908550-250-99  ZARAHOME   \n",
       "1371              HAMMERED TUMBLER  122040891-990-99  ZARAHOME   \n",
       "\n",
       "                                            description  price currency  \\\n",
       "977   Thick transparent glass soft drink tumbler wit...      2      USD   \n",
       "1075           Glass tumbler with raised square effect.      2      USD   \n",
       "1119                 Glass tumbler with a floral print.      2      USD   \n",
       "1371   Glass tumbler with a cut diamond pattern design.      2      USD   \n",
       "\n",
       "     availability     condition  \\\n",
       "977       InStock  NewCondition   \n",
       "1075      InStock  NewCondition   \n",
       "1119      InStock  NewCondition   \n",
       "1371      InStock  NewCondition   \n",
       "\n",
       "                                                 images  \\\n",
       "977   https://static.zara.net/stdstatic/1.234.0-b.45...   \n",
       "1075  https://static.zara.net/stdstatic/1.234.0-b.45...   \n",
       "1119  https://static.zara.net/stdstatic/1.234.0-b.45...   \n",
       "1371  https://static.zara.net/stdstatic/1.234.0-b.45...   \n",
       "\n",
       "                       color            size_list          scraped_at  \n",
       "977                 1643/402    7 x 12.9 x 9.1 cm 2021-10-13 01:23:04  \n",
       "1075                0284/401    4.5 x 12 x 8.5 cm 2021-10-13 01:23:14  \n",
       "1119  Color White | 6221/401     8.7 x 9 x 8.7 cm 2021-10-13 01:23:18  \n",
       "1371                2678/401  10.2 x 9.1 x 9.1 cm 2021-10-13 01:23:43  "
      ]
     },
     "execution_count": 102,
     "metadata": {},
     "output_type": "execute_result"
    }
   ],
   "source": [
    "df[(df.price == df.price.min()) & (df.brand =='ZARAHOME')] #lowest priced item in ZARAHOME"
   ]
  },
  {
   "cell_type": "code",
   "execution_count": 159,
   "id": "37949513",
   "metadata": {},
   "outputs": [
    {
     "data": {
      "text/plain": [
       "1277"
      ]
     },
     "execution_count": 159,
     "metadata": {},
     "output_type": "execute_result"
    }
   ],
   "source": [
    "len(df[df['availability']=='InStock'])"
   ]
  },
  {
   "cell_type": "code",
   "execution_count": 200,
   "id": "4ea469df",
   "metadata": {},
   "outputs": [
    {
     "data": {
      "image/png": "[encoded data removed]",
      "text/plain": [
       "<Figure size 640x480 with 1 Axes>"
      ]
     },
     "metadata": {},
     "output_type": "display_data"
    }
   ],
   "source": [
    "#df['availability'].value_counts().plot(kind='pie')\n",
    "df.availability.str.get_dummies().sum().plot.pie(label='Percentage distribution', autopct='%1.0f%%')\n",
    "plt.title('Availability of products')\n",
    "plt.show()"
   ]
  },
  {
   "cell_type": "code",
   "execution_count": null,
   "id": "419d5ccb",
   "metadata": {},
   "outputs": [],
   "source": []
  }
 ],
 "metadata": {
  "kernelspec": {
   "display_name": "Python 3 (ipykernel)",
   "language": "python",
   "name": "python3"
  },
  "language_info": {
   "codemirror_mode": {
    "name": "ipython",
    "version": 3
   },
   "file_extension": ".py",
   "mimetype": "text/x-python",
   "name": "python",
   "nbconvert_exporter": "python",
   "pygments_lexer": "ipython3",
   "version": "3.9.13"
  }
 },
 "nbformat": 4,
 "nbformat_minor": 5
}
